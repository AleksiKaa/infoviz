{
 "cells": [
  {
   "cell_type": "code",
   "execution_count": null,
   "metadata": {},
   "outputs": [],
   "source": [
    "import matplotlib.pyplot as plt\n",
    "from matplotlib import colormaps\n",
    "import pandas as pd\n",
    "import numpy as np\n",
    "import seaborn as sns\n",
    "import plotly.express as px\n",
    "\n",
    "from sklearn.manifold import TSNE, MDS\n",
    "from sklearn.decomposition import PCA"
   ]
  },
  {
   "cell_type": "code",
   "execution_count": null,
   "metadata": {},
   "outputs": [],
   "source": [
    "europe = [\n",
    "    \"Albania\", \"Austria\", \"Belarus\", \"Belgium\", \"Bosnia and Herzegovina\", \"Bulgaria\",\n",
    "    \"Croatia\", \"Cyprus\", \"Czechia\", \"Denmark\", \"Estonia\", \"Finland\", \"France\", \n",
    "    \"Germany\", \"Greece\", \"Hungary\", \"Iceland\", \"Ireland\", \"Italy\", \"Kosovo\", \n",
    "    \"Latvia\", \"Lithuania\", \"Luxembourg\", \"Malta\", \"Moldova\", \"Montenegro\", \n",
    "    \"Netherlands\", \"North Macedonia\", \"Norway\", \"Poland\", \"Portugal\", \"Romania\", \n",
    "    \"Russia\", \"Serbia\", \"Slovakia\", \"Slovenia\", \"Spain\", \"Sweden\", \"Switzerland\", \n",
    "    \"Ukraine\", \"United Kingdom\"\n",
    "]"
   ]
  },
  {
   "cell_type": "code",
   "execution_count": null,
   "metadata": {},
   "outputs": [],
   "source": [
    "poverty_data = pd.read_csv(\"../data/poverty-share-on-less-than-30-per-day.csv\")\n",
    "poverty_data.columns = [\"Entity\", \"Code\", \"Year\", \"Percentage\"]"
   ]
  },
  {
   "cell_type": "code",
   "execution_count": null,
   "metadata": {},
   "outputs": [],
   "source": [
    "df = poverty_data.copy()\n",
    "#df = df[df[\"Entity\"].isin(europe)]\n",
    "df = df.pivot(index=\"Entity\", columns=\"Year\", values=\"Percentage\")\n",
    "df = df.dropna()\n",
    "\n",
    "df.head()"
   ]
  },
  {
   "cell_type": "code",
   "execution_count": null,
   "metadata": {},
   "outputs": [],
   "source": [
    "df_std = df.copy()\n",
    "for col in df:\n",
    "    c = df[[col]]\n",
    "    mean = c.mean()\n",
    "    std = c.std()\n",
    "    \n",
    "    c = (c - mean) / std\n",
    "    df_std[[col]] = c\n",
    "    \n",
    "df_std.head()"
   ]
  },
  {
   "cell_type": "code",
   "execution_count": null,
   "metadata": {},
   "outputs": [],
   "source": [
    "pca = PCA(n_components=df.shape[1])\n",
    "dfs = [df, df_std]\n",
    "fig, ax = plt.subplots(1, 2, figsize=(12, 5))\n",
    "\n",
    "for i, dataframe in enumerate(dfs):\n",
    "\n",
    "    res = pca.fit(dataframe)\n",
    "\n",
    "    loadings = pd.DataFrame(\n",
    "        res.components_.T,\n",
    "        columns=[\"PC%s\" % _ for _ in range(len(res.components_))],\n",
    "        index=df.columns,\n",
    "    )\n",
    "\n",
    "    #ax[i].plot(pca.explained_variance_ratio_)\n",
    "    ax[i].scatter(res.components_[:, 0], res.components_[:, 1])"
   ]
  },
  {
   "cell_type": "code",
   "execution_count": null,
   "metadata": {},
   "outputs": [],
   "source": [
    "fig, ax = plt.subplots(1, 2, figsize=(12, 5))\n",
    "\n",
    "random_states = [0, 42]\n",
    "\n",
    "for i, seed in enumerate(random_states):\n",
    "\n",
    "    mds = MDS(n_components=2, random_state=seed)\n",
    "    X = mds.fit_transform(df)\n",
    "    x, y = X[:, 0], X[:, 1]\n",
    "    ax[i].scatter(x, y)\n",
    "\n",
    "    ax[i].set_title(f\"Random Seed = {seed}\")\n",
    "\n",
    "plt.show()"
   ]
  },
  {
   "cell_type": "code",
   "execution_count": null,
   "metadata": {},
   "outputs": [],
   "source": [
    "fig, ax = plt.subplots(2, 3, figsize=(14, 10))\n",
    "perplex = [5, 30, 50]\n",
    "random_states = [0, 42]\n",
    "\n",
    "for i, seed in enumerate(random_states):\n",
    "    for j, p in enumerate(perplex):\n",
    "        tsne = TSNE(n_components=2, perplexity=p, random_state=seed)\n",
    "        X = tsne.fit_transform(df)\n",
    "        x, y = X[:, 0], X[:, 1]\n",
    "        \n",
    "        ax[i, j].scatter(x, y)\n",
    "        \n",
    "        if i == 0:\n",
    "            ax[i, j].set_title(f\"Perplexity = {p}\")\n",
    "        if j == 0:\n",
    "            ax[i, j].set_ylabel(f\"Random seed = {seed}\")"
   ]
  }
 ],
 "metadata": {
  "kernelspec": {
   "display_name": "base",
   "language": "python",
   "name": "python3"
  },
  "language_info": {
   "codemirror_mode": {
    "name": "ipython",
    "version": 3
   },
   "file_extension": ".py",
   "mimetype": "text/x-python",
   "name": "python",
   "nbconvert_exporter": "python",
   "pygments_lexer": "ipython3",
   "version": "3.12.7"
  }
 },
 "nbformat": 4,
 "nbformat_minor": 2
}
