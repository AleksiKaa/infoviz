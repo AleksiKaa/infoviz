{
 "cells": [
  {
   "cell_type": "code",
   "execution_count": null,
   "metadata": {},
   "outputs": [],
   "source": [
    "import matplotlib.pyplot as plt\n",
    "import pandas as pd\n",
    "import numpy as np\n",
    "import networkx as nx\n",
    "\n",
    "from sklearn.manifold import TSNE, MDS\n",
    "from sklearn.decomposition import PCA"
   ]
  },
  {
   "cell_type": "code",
   "execution_count": null,
   "metadata": {},
   "outputs": [],
   "source": [
    "europe = [\n",
    "    \"Albania\", \"Austria\", \"Belarus\", \"Belgium\", \"Bosnia and Herzegovina\", \"Bulgaria\",\n",
    "    \"Croatia\", \"Cyprus\", \"Czechia\", \"Denmark\", \"Estonia\", \"Finland\", \"France\", \n",
    "    \"Germany\", \"Greece\", \"Hungary\", \"Iceland\", \"Ireland\", \"Italy\", \"Kosovo\", \n",
    "    \"Latvia\", \"Lithuania\", \"Luxembourg\", \"Malta\", \"Moldova\", \"Montenegro\", \n",
    "    \"Netherlands\", \"North Macedonia\", \"Norway\", \"Poland\", \"Portugal\", \"Romania\", \n",
    "    \"Russia\", \"Serbia\", \"Slovakia\", \"Slovenia\", \"Spain\", \"Sweden\", \"Switzerland\", \n",
    "    \"Ukraine\", \"United Kingdom\"\n",
    "]"
   ]
  },
  {
   "cell_type": "code",
   "execution_count": null,
   "metadata": {},
   "outputs": [],
   "source": [
    "poverty_data = pd.read_csv(\"../data/poverty-share-on-less-than-30-per-day.csv\")\n",
    "poverty_data.columns = [\"Entity\", \"Code\", \"Year\", \"Percentage\"]"
   ]
  },
  {
   "cell_type": "code",
   "execution_count": null,
   "metadata": {},
   "outputs": [],
   "source": [
    "df = poverty_data.copy()\n",
    "#df = df[df[\"Entity\"].isin(europe)]\n",
    "df = df.pivot(index=\"Entity\", columns=\"Year\", values=\"Percentage\")\n",
    "df = df.dropna()\n",
    "\n",
    "df.head()"
   ]
  },
  {
   "cell_type": "code",
   "execution_count": null,
   "metadata": {},
   "outputs": [],
   "source": [
    "df_std = df.copy()\n",
    "for col in df:\n",
    "    c = df[[col]]\n",
    "    mean = c.mean()\n",
    "    std = c.std()\n",
    "    \n",
    "    c = (c - mean) / std\n",
    "    df_std[[col]] = c\n",
    "    \n",
    "df_std.head()"
   ]
  },
  {
   "cell_type": "code",
   "execution_count": null,
   "metadata": {},
   "outputs": [],
   "source": [
    "pca = PCA(n_components=df.shape[1])\n",
    "dfs = [df, df_std]\n",
    "fig, ax = plt.subplots(1, 2, figsize=(12, 5))\n",
    "\n",
    "for i, dataframe in enumerate(dfs):\n",
    "\n",
    "    res = pca.fit(dataframe)\n",
    "\n",
    "    loadings = pd.DataFrame(\n",
    "        res.components_.T,\n",
    "        columns=[\"PC%s\" % _ for _ in range(len(res.components_))],\n",
    "        index=df.columns,\n",
    "    )\n",
    "\n",
    "    #ax[i].plot(pca.explained_variance_ratio_)\n",
    "    ax[i].scatter(res.components_[:, 0], res.components_[:, 1])\n",
    "    \n",
    "ax[0].set_title(\"Original data\")\n",
    "ax[1].set_title(\"Standardized data\")\n",
    "plt.suptitle(\"PCA with 2 components\")\n",
    "plt.show()"
   ]
  },
  {
   "cell_type": "code",
   "execution_count": null,
   "metadata": {},
   "outputs": [],
   "source": [
    "fig, ax = plt.subplots(1, 2, figsize=(12, 5))\n",
    "\n",
    "random_states = [0, 42]\n",
    "\n",
    "for i, seed in enumerate(random_states):\n",
    "\n",
    "    mds = MDS(n_components=2, random_state=seed)\n",
    "    X = mds.fit_transform(df)\n",
    "    x, y = X[:, 0], X[:, 1]\n",
    "    ax[i].scatter(x, y)\n",
    "\n",
    "    ax[i].set_title(f\"Random Seed = {seed}\")\n",
    "\n",
    "fig.suptitle(\"MDS with 2 components\")\n",
    "plt.show()"
   ]
  },
  {
   "cell_type": "code",
   "execution_count": null,
   "metadata": {},
   "outputs": [],
   "source": [
    "fig, ax = plt.subplots(2, 3, figsize=(14, 10))\n",
    "perplex = [5, 30, 50]\n",
    "random_states = [0, 42]\n",
    "\n",
    "for i, seed in enumerate(random_states):\n",
    "    for j, p in enumerate(perplex):\n",
    "        tsne = TSNE(n_components=2, perplexity=p, random_state=seed, init=\"random\")\n",
    "        X = tsne.fit_transform(df)\n",
    "        x, y = X[:, 0], X[:, 1]\n",
    "        \n",
    "        ax[i, j].scatter(x, y)\n",
    "        \n",
    "        if i == 0:\n",
    "            ax[i, j].set_title(f\"Perplexity = {p}\")\n",
    "        if j == 0:\n",
    "            ax[i, j].set_ylabel(f\"Random seed = {seed}\")\n",
    "            \n",
    "plt.suptitle(\"t-SNE on 2 components\")"
   ]
  },
  {
   "cell_type": "code",
   "execution_count": null,
   "metadata": {},
   "outputs": [],
   "source": [
    "n_sdgs = 17\n",
    "sdg_network = np.zeros((n_sdgs, n_sdgs))\n",
    "\n",
    "idx_mask = np.array(\n",
    "    [\n",
    "        [0, 1],\n",
    "        [0, 2],\n",
    "        [0, 3],\n",
    "        [0, 5],\n",
    "        [0, 9],\n",
    "        [1, 2],\n",
    "        [1, 5],\n",
    "        [1, 9],\n",
    "        [2, 3],\n",
    "        [2, 5],\n",
    "        [2, 16],\n",
    "        [3, 4],\n",
    "        [3, 7],\n",
    "        [3, 8],\n",
    "        [4, 7],\n",
    "        [4, 9],\n",
    "        [4, 16],\n",
    "        [5, 9],\n",
    "        [6, 10],\n",
    "        [6, 11],\n",
    "        [6, 12],\n",
    "        [6, 13],\n",
    "        [6, 14],\n",
    "        [7, 8],\n",
    "        [7, 11],\n",
    "        [8, 10],\n",
    "        [9, 16],\n",
    "        [10, 15],\n",
    "        [11, 12],\n",
    "        [11, 13],\n",
    "        [11, 14],\n",
    "        [12, 13],\n",
    "        [12, 14],\n",
    "        [12, 16],\n",
    "        [13, 14],\n",
    "        [15, 16],\n",
    "    ]\n",
    ")\n",
    "\n",
    "sdg_network[idx_mask[:, 0], idx_mask[:, 1]] = 1\n",
    "G = nx.from_numpy_array(sdg_network)\n",
    "l = {n: n + 1 for n in range(17)}"
   ]
  },
  {
   "cell_type": "code",
   "execution_count": null,
   "metadata": {},
   "outputs": [],
   "source": [
    "fig, ax = plt.subplots(1, figsize=(8, 6))\n",
    "radial = nx.circular_layout(G)\n",
    "nx.draw(G, pos=radial, labels=l, ax=ax, with_labels=True)\n",
    "plt.title(\"Radial layout\")\n",
    "plt.show()"
   ]
  },
  {
   "cell_type": "code",
   "execution_count": null,
   "metadata": {},
   "outputs": [],
   "source": [
    "seeds = [0, 42]\n",
    "\n",
    "fig, ax = plt.subplots(1, 2, figsize=(12, 6))\n",
    "\n",
    "for i, s in enumerate(seeds):\n",
    "    init_pos = nx.random_layout(G, seed=s)\n",
    "    kk = nx.kamada_kawai_layout(G, pos=init_pos)\n",
    "    nx.draw(G, labels=l, ax=ax[i], pos=kk)\n",
    "    \n",
    "    ax[i].set_title(f\"seed = {s}\")\n",
    "    \n",
    "plt.suptitle(\"Kamada-Kawai layout with two different seeds\")\n",
    "plt.show()"
   ]
  },
  {
   "cell_type": "code",
   "execution_count": null,
   "metadata": {},
   "outputs": [],
   "source": [
    "seeds = [0, 42]\n",
    "\n",
    "fig, ax = plt.subplots(1, 2, figsize=(12, 6))\n",
    "\n",
    "for i, s in enumerate(seeds):\n",
    "    np.random.seed(s)\n",
    "    fr = nx.fruchterman_reingold_layout(G)\n",
    "    nx.draw(G, labels=l, ax=ax[i], pos=fr)\n",
    "    \n",
    "    ax[i].set_title(f\"seed = {s}\")\n",
    "    \n",
    "plt.suptitle(\"Fruchter-Reingold layout with two different seeds\")\n",
    "plt.show()"
   ]
  }
 ],
 "metadata": {
  "kernelspec": {
   "display_name": "base",
   "language": "python",
   "name": "python3"
  },
  "language_info": {
   "codemirror_mode": {
    "name": "ipython",
    "version": 3
   },
   "file_extension": ".py",
   "mimetype": "text/x-python",
   "name": "python",
   "nbconvert_exporter": "python",
   "pygments_lexer": "ipython3",
   "version": "3.12.7"
  }
 },
 "nbformat": 4,
 "nbformat_minor": 2
}
