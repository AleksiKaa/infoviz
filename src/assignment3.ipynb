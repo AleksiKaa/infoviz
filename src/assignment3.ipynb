{
 "cells": [
  {
   "cell_type": "code",
   "execution_count": null,
   "metadata": {},
   "outputs": [],
   "source": [
    "import matplotlib.pyplot as plt\n",
    "from matplotlib import colormaps\n",
    "import pandas as pd\n",
    "import numpy as np\n",
    "import seaborn as sns\n",
    "import plotly.express as px"
   ]
  },
  {
   "cell_type": "code",
   "execution_count": null,
   "metadata": {},
   "outputs": [],
   "source": [
    "# Load data and rename columns\n",
    "poverty_data = pd.read_csv(\"../data/poverty-share-on-less-than-30-per-day.csv\")\n",
    "poverty_data.columns = [\"Entity\", \"Code\", \"Year\", \"Percentage\"]"
   ]
  },
  {
   "cell_type": "code",
   "execution_count": null,
   "metadata": {},
   "outputs": [],
   "source": [
    "w, h = 1000, 580\n",
    "\n",
    "df = poverty_data[poverty_data[\"Year\"] == 2015]\n",
    "\n",
    "fig = px.choropleth(\n",
    "    df,\n",
    "    locations=\"Entity\",\n",
    "    locationmode=\"country names\",\n",
    "    color=\"Percentage\",\n",
    "    color_continuous_scale=px.colors.sequential.YlOrRd,\n",
    "    title=\"Share of population living under the poverty line in 2015, sequential colormap\",\n",
    "    width=w,\n",
    "    height=h,\n",
    "    labels={\"Entity\": \"Country\"},\n",
    ")\n",
    "fig.show()"
   ]
  },
  {
   "cell_type": "code",
   "execution_count": null,
   "metadata": {},
   "outputs": [],
   "source": [
    "pr = df[[\"Percentage\"]]\n",
    "diff = pr - pr.mean()\n",
    "norm_col = diff / diff.abs().max()\n",
    "\n",
    "df_normalized = df.copy()\n",
    "df_normalized[\"Percentage\"] = norm_col"
   ]
  },
  {
   "cell_type": "code",
   "execution_count": null,
   "metadata": {},
   "outputs": [],
   "source": [
    "fig = px.choropleth(\n",
    "    df_normalized,\n",
    "    locations=\"Entity\",\n",
    "    locationmode=\"country names\",\n",
    "    color=\"Percentage\",\n",
    "    title=\"Share of population living under the poverty line in 2015, diverging colormap\",\n",
    "    color_continuous_midpoint=0,\n",
    "    color_continuous_scale=px.colors.diverging.RdYlBu_r,\n",
    "    width=w,\n",
    "    height=h,\n",
    "    labels={\"Entity\": \"Country\", \"Percentage\": \"Difference\"},\n",
    ")\n",
    "fig.show()"
   ]
  },
  {
   "cell_type": "code",
   "execution_count": null,
   "metadata": {},
   "outputs": [],
   "source": [
    "ceurope = [\n",
    "    \"Austria\",\n",
    "    \"Belgium\",\n",
    "    \"Czechia\",\n",
    "    \"France\",\n",
    "    \"Germany\",\n",
    "    \"Hungary\",\n",
    "    \"Ireland\",\n",
    "    \"Luxembourg\",\n",
    "    \"Netherlands\",\n",
    "    \"Poland\",\n",
    "    \"Slovakia\",\n",
    "    \"Slovenia\",\n",
    "    \"Switzerland\",\n",
    "    \"United Kingdom\",\n",
    "]\n",
    "\n",
    "df = poverty_data[poverty_data[\"Entity\"].isin(ceurope)]\n",
    "df = pd.pivot(df, index=\"Entity\", columns=\"Year\", values=\"Percentage\")\n",
    "df = df.dropna()\n",
    "\n",
    "fig, ax = plt.subplots(figsize=(12, 8))\n",
    "sns.heatmap(df, vmax=100, vmin=0, cmap=\"coolwarm\", ax=ax, linewidths=0.5)\n",
    "plt.xlabel(\"Year\")\n",
    "plt.ylabel(\"Country\")\n",
    "plt.title(\"Share of population living under the poverty line, percentage\")\n",
    "\n",
    "plt.show()"
   ]
  },
  {
   "cell_type": "code",
   "execution_count": null,
   "metadata": {},
   "outputs": [],
   "source": [
    "sns.clustermap(df, cmap='coolwarm', linewidths=0.5, figsize=(10, 8), vmin=0, vmax=100, col_cluster=False)\n",
    "plt.title(\"Share of population living under the poverty line, percentage\", loc=\"left\")\n",
    "plt.show()\n"
   ]
  }
 ],
 "metadata": {
  "kernelspec": {
   "display_name": "base",
   "language": "python",
   "name": "python3"
  },
  "language_info": {
   "codemirror_mode": {
    "name": "ipython",
    "version": 3
   },
   "file_extension": ".py",
   "mimetype": "text/x-python",
   "name": "python",
   "nbconvert_exporter": "python",
   "pygments_lexer": "ipython3",
   "version": "3.12.7"
  }
 },
 "nbformat": 4,
 "nbformat_minor": 2
}
